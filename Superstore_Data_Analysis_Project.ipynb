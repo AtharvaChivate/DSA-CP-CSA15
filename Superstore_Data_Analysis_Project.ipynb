{
  "nbformat": 4,
  "nbformat_minor": 0,
  "metadata": {
    "colab": {
      "provenance": [],
      "authorship_tag": "ABX9TyOSFzFaEb6b69R40N3hwVAO",
      "include_colab_link": true
    },
    "kernelspec": {
      "name": "python3",
      "display_name": "Python 3"
    },
    "language_info": {
      "name": "python"
    }
  },
  "cells": [
    {
      "cell_type": "markdown",
      "metadata": {
        "id": "view-in-github",
        "colab_type": "text"
      },
      "source": [
        "<a href=\"https://colab.research.google.com/github/AtharvaChivate/DSA-CP-CSA15/blob/main/Superstore_Data_Analysis_Project.ipynb\" target=\"_parent\"><img src=\"https://colab.research.google.com/assets/colab-badge.svg\" alt=\"Open In Colab\"/></a>"
      ]
    },
    {
      "cell_type": "code",
      "execution_count": null,
      "metadata": {
        "id": "9ShOUdg8Iyos"
      },
      "outputs": [],
      "source": [
        "import numpy as np\n",
        "import pandas as pd\n",
        "import matplotlib.pyplot as plt\n",
        "import seaborn as sns\n",
        "import sklearn\n",
        "from pandas.plotting import scatter_matrix"
      ]
    },
    {
      "cell_type": "code",
      "source": [
        "#Loading the Dataset\n",
        "df = pd.read_csv(\"SampleSuperstore.csv\")"
      ],
      "metadata": {
        "id": "TWXjYyV2SmqZ"
      },
      "execution_count": null,
      "outputs": []
    },
    {
      "cell_type": "code",
      "source": [
        "df.head()"
      ],
      "metadata": {
        "id": "QQ_pEQ7jSvu7"
      },
      "execution_count": null,
      "outputs": []
    },
    {
      "cell_type": "code",
      "source": [
        "df.tail()"
      ],
      "metadata": {
        "id": "Tir8u3VWWQ4w"
      },
      "execution_count": null,
      "outputs": []
    },
    {
      "cell_type": "code",
      "source": [
        "df.info()"
      ],
      "metadata": {
        "id": "RskeMZtKTE64"
      },
      "execution_count": null,
      "outputs": []
    },
    {
      "cell_type": "code",
      "source": [
        "df.shape"
      ],
      "metadata": {
        "id": "m-AndjkxQ1rZ"
      },
      "execution_count": null,
      "outputs": []
    },
    {
      "cell_type": "code",
      "source": [
        "#Dropping Postal Code column as we wont need it\n",
        "df.drop(columns= \"Postal Code\", inplace = True)"
      ],
      "metadata": {
        "id": "fERjCoKuTa9c"
      },
      "execution_count": null,
      "outputs": []
    },
    {
      "cell_type": "code",
      "source": [
        "df.head()"
      ],
      "metadata": {
        "id": "uewlVN4BUSa-"
      },
      "execution_count": null,
      "outputs": []
    },
    {
      "cell_type": "code",
      "source": [
        "print(df[\"Ship Mode\"].unique())\n",
        "print(df[\"Segment\"].unique())\n",
        "print(df[\"Country\"].unique())\n",
        "print(df[\"Category\"].unique())\n",
        "print(df[\"Sub-Category\"].unique())\n",
        "print(df[\"Region\"].unique())"
      ],
      "metadata": {
        "id": "Sy1ALDIZTcdv"
      },
      "execution_count": null,
      "outputs": []
    },
    {
      "cell_type": "code",
      "source": [
        "#Statistical description of the data\n",
        "df.describe() #Will only describe numerical columns"
      ],
      "metadata": {
        "id": "2nhBHf90VZef"
      },
      "execution_count": null,
      "outputs": []
    },
    {
      "cell_type": "code",
      "source": [
        "df.info() #Shows the non-null count"
      ],
      "metadata": {
        "id": "_8D5lkLqVyPY"
      },
      "execution_count": null,
      "outputs": []
    },
    {
      "cell_type": "code",
      "source": [
        "df.isna().sum() #Here we get the sum of all missing values"
      ],
      "metadata": {
        "id": "bcROqHm8WBB3"
      },
      "execution_count": null,
      "outputs": []
    },
    {
      "cell_type": "code",
      "source": [
        "#Sales analysis based on region\n",
        "df.groupby(\"Region\")[\"Sales\"].sum().plot.bar()"
      ],
      "metadata": {
        "id": "hFKecByeWtcP"
      },
      "execution_count": null,
      "outputs": []
    },
    {
      "cell_type": "code",
      "source": [
        "#Profit analysis based on region\n",
        "df.groupby(\"Region\")[\"Profit\"].sum().plot.bar()"
      ],
      "metadata": {
        "id": "4OzWMJwBYCkh"
      },
      "execution_count": null,
      "outputs": []
    },
    {
      "cell_type": "code",
      "source": [
        "df.groupby(\"Region\")[\"Sales\"].sum().plot.pie(autopct=\"%1.0f%%\")"
      ],
      "metadata": {
        "id": "YSMMgiR0YhZQ"
      },
      "execution_count": null,
      "outputs": []
    },
    {
      "cell_type": "code",
      "source": [
        "df.groupby(\"Region\")[\"Profit\"].sum().plot.pie(autopct=\"%1.0f%%\")"
      ],
      "metadata": {
        "id": "6FX_YNOqZNNW"
      },
      "execution_count": null,
      "outputs": []
    },
    {
      "cell_type": "code",
      "source": [
        "df.groupby(\"Segment\")[\"Sales\"].sum().plot.pie(autopct=\"%1.0f%%\")"
      ],
      "metadata": {
        "id": "MIuxJAHXZdHj"
      },
      "execution_count": null,
      "outputs": []
    },
    {
      "cell_type": "code",
      "source": [
        "df.groupby(\"Segment\")[\"Sales\"].sum().plot.bar()"
      ],
      "metadata": {
        "id": "Ygcfe-lNZylj"
      },
      "execution_count": null,
      "outputs": []
    },
    {
      "cell_type": "code",
      "source": [
        "df.groupby(\"Segment\")[\"Profit\"].sum().plot.bar()"
      ],
      "metadata": {
        "id": "GB8nWnxFaAvP"
      },
      "execution_count": null,
      "outputs": []
    },
    {
      "cell_type": "code",
      "source": [
        "df.groupby(\"Category\")[\"Sales\"].sum().plot.bar()"
      ],
      "metadata": {
        "id": "KhWmkmSlaIuI"
      },
      "execution_count": null,
      "outputs": []
    },
    {
      "cell_type": "code",
      "source": [
        "df.groupby(\"Category\")[\"Profit\"].sum().plot.bar()"
      ],
      "metadata": {
        "id": "hnDe_-cHaPY_"
      },
      "execution_count": null,
      "outputs": []
    },
    {
      "cell_type": "code",
      "source": [
        "df.groupby(\"Category\")[\"Sales\"].sum().plot.pie(autopct=\"%1.0f%%\")"
      ],
      "metadata": {
        "id": "sUxIpPKHaVz1"
      },
      "execution_count": null,
      "outputs": []
    },
    {
      "cell_type": "code",
      "source": [
        "df.groupby(\"Category\")[\"Profit\"].sum().plot.pie(autopct=\"%1.0f%%\")"
      ],
      "metadata": {
        "id": "Iht4DsEVa1Wy"
      },
      "execution_count": null,
      "outputs": []
    },
    {
      "cell_type": "code",
      "source": [
        "df.groupby(\"State\")[\"Sales\"].sum().plot.bar()"
      ],
      "metadata": {
        "id": "1UJKDAbibCJR"
      },
      "execution_count": null,
      "outputs": []
    },
    {
      "cell_type": "code",
      "source": [
        "df.groupby(\"State\")[\"Profit\"].sum().plot.bar()"
      ],
      "metadata": {
        "id": "oLVQ_vtubQFL"
      },
      "execution_count": null,
      "outputs": []
    },
    {
      "cell_type": "code",
      "source": [
        "df[\"Sales\"].unique()"
      ],
      "metadata": {
        "id": "xWvnPKZeRDld"
      },
      "execution_count": null,
      "outputs": []
    },
    {
      "cell_type": "code",
      "source": [
        "df[\"Category\"].value_counts() #Number of products of Each Category"
      ],
      "metadata": {
        "id": "bg2fjNPBRTXr"
      },
      "execution_count": null,
      "outputs": []
    },
    {
      "cell_type": "code",
      "source": [
        "df[\"State\"].nunique() #Number of unique values"
      ],
      "metadata": {
        "id": "XbRkNAKARnoJ"
      },
      "execution_count": null,
      "outputs": []
    },
    {
      "cell_type": "code",
      "source": [
        "df.duplicated().sum()"
      ],
      "metadata": {
        "id": "8leUPvUlR2qZ"
      },
      "execution_count": null,
      "outputs": []
    },
    {
      "cell_type": "code",
      "source": [
        "#sns.heatmap(df.isnull(),yticklabels = False, cbar = False)"
      ],
      "metadata": {
        "id": "LWrLuxnmSXZw"
      },
      "execution_count": null,
      "outputs": []
    },
    {
      "cell_type": "code",
      "source": [
        "df.drop_duplicates(inplace = True)"
      ],
      "metadata": {
        "id": "YAY6K_8wSnCS"
      },
      "execution_count": null,
      "outputs": []
    },
    {
      "cell_type": "code",
      "source": [
        "df.shape"
      ],
      "metadata": {
        "id": "1XSNnqkATanO"
      },
      "execution_count": null,
      "outputs": []
    },
    {
      "cell_type": "code",
      "source": [
        "#df.corr() #Used to find out correlation between two variables, Null values are automatically ignored"
      ],
      "metadata": {
        "id": "gcA6ItPcTdkM"
      },
      "execution_count": null,
      "outputs": []
    },
    {
      "cell_type": "code",
      "source": [
        "df.corr()"
      ],
      "metadata": {
        "id": "Wtkn_VLhT_LS"
      },
      "execution_count": null,
      "outputs": []
    },
    {
      "cell_type": "code",
      "source": [
        "df.cov() #Covariance provides the measure of strength of a corelation between two or more variables read as (xi, yi)"
      ],
      "metadata": {
        "id": "eLP8ITMWUBrD"
      },
      "execution_count": null,
      "outputs": []
    },
    {
      "cell_type": "code",
      "source": [
        "df.iloc[0]"
      ],
      "metadata": {
        "id": "MyLPRtYuU06B"
      },
      "execution_count": null,
      "outputs": []
    },
    {
      "cell_type": "code",
      "source": [
        "df.iloc[:,0]"
      ],
      "metadata": {
        "id": "ClXjU7M5VTOA"
      },
      "execution_count": null,
      "outputs": []
    },
    {
      "cell_type": "code",
      "source": [
        "df.value_counts()"
      ],
      "metadata": {
        "id": "zIomZmmQVXXt"
      },
      "execution_count": null,
      "outputs": []
    },
    {
      "cell_type": "code",
      "source": [],
      "metadata": {
        "id": "gwsyAW1gVg2C"
      },
      "execution_count": null,
      "outputs": []
    }
  ]
}